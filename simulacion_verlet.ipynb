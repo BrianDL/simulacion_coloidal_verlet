{
  "nbformat": 4,
  "nbformat_minor": 0,
  "metadata": {
    "colab": {
      "provenance": [],
      "authorship_tag": "ABX9TyNmFofmSbDOqP2pbj19/5cr",
      "include_colab_link": true
    },
    "kernelspec": {
      "name": "python3",
      "display_name": "Python 3"
    },
    "language_info": {
      "name": "python"
    }
  },
  "cells": [
    {
      "cell_type": "markdown",
      "metadata": {
        "id": "view-in-github",
        "colab_type": "text"
      },
      "source": [
        "<a href=\"https://colab.research.google.com/github/BrianDL/simulacion_coloidal_verlet/blob/main/simulacion_verlet.ipynb\" target=\"_parent\"><img src=\"https://colab.research.google.com/assets/colab-badge.svg\" alt=\"Open In Colab\"/></a>"
      ]
    },
    {
      "cell_type": "code",
      "execution_count": 44,
      "metadata": {
        "colab": {
          "base_uri": "https://localhost:8080/"
        },
        "id": "A1Q96QgXK-9o",
        "outputId": "49c8612e-e12d-4e6d-844f-d08b1db61e1f"
      },
      "outputs": [
        {
          "output_type": "stream",
          "name": "stdout",
          "text": [
            "Number of energy values: 1501\n",
            "First energy value: 22.256142\n",
            "Last energy value: 22.242891\n"
          ]
        }
      ],
      "source": [
        "#!/usr/bin/env python3\n",
        "\n",
        "import numpy as np\n",
        "from plotter import Plotter\n",
        "from container import Region, get_region\n",
        "\n",
        "# Modify the Simulation class to include energies\n",
        "class Simulation:\n",
        "    def __init__(self, steps, L, energies=None):\n",
        "        self.steps = steps\n",
        "        self.container = get_region('block', (L,L,L))\n",
        "        self.energies = energies\n",
        "\n",
        "def read_energias(filename):\n",
        "    energies = []\n",
        "    with open(filename, 'r') as f:\n",
        "        for i,line in enumerate(f):\n",
        "            energies.append(float(line.strip()))\n",
        "\n",
        "            if i >= 1500: break\n",
        "\n",
        "    return np.array(energies)\n",
        "\n",
        "# Modify the read_estados function to also read energies\n",
        "def read_estados(estados_filename, energias_filename, L=1000):\n",
        "    steps = []\n",
        "    with open(estados_filename, 'r') as f:\n",
        "        while True:\n",
        "            x = f.readline().strip()\n",
        "\n",
        "            if not x: break\n",
        "\n",
        "            y = f.readline().strip()\n",
        "            z = f.readline().strip()\n",
        "\n",
        "            step = (\n",
        "                np.array(list(map(float, x.split()))),\n",
        "                np.array(list(map(float, y.split()))),\n",
        "                np.array(list(map(float, z.split())))\n",
        "            )\n",
        "            steps.append(step)\n",
        "\n",
        "    energies = read_energias(energias_filename)\n",
        "\n",
        "    return Simulation(steps, L, energies)\n",
        "# Read the data\n",
        "sim = read_estados('estados.txt', 'energias.txt')\n",
        "\n",
        "# You can now access the energies like this:\n",
        "print(f\"Number of energy values: {len(sim.energies)}\")\n",
        "print(f\"First energy value: {sim.energies[0]}\")\n",
        "print(f\"Last energy value: {sim.energies[-1]}\")"
      ]
    },
    {
      "cell_type": "code",
      "source": [
        "plotter = Plotter(sim)\n",
        "plotter.plot_energy()\n",
        "\n",
        "# plotter.plot_xz_projection(0)\n",
        "# plotter.plot_xz_projection()\n",
        "\n",
        "# plotter.plot_3d_state()\n",
        "\n",
        "# plotter.create_gif(filename='system_evolution.gif'\n",
        "#     , plot_type='3d', step_interval=500)"
      ],
      "metadata": {
        "id": "h7bB3FcGMhf2"
      },
      "execution_count": 45,
      "outputs": []
    },
    {
      "cell_type": "code",
      "source": [
        "!rm temp_*"
      ],
      "metadata": {
        "id": "v7wk-j5ySier"
      },
      "execution_count": null,
      "outputs": []
    }
  ]
}